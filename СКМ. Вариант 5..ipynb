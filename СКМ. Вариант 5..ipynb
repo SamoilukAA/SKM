{
 "cells": [
  {
   "cell_type": "markdown",
   "metadata": {},
   "source": [
    "# Системы компьютерной математики. Cамойлюк А.А. 381908-1. Вариант 5."
   ]
  },
  {
   "cell_type": "markdown",
   "metadata": {},
   "source": [
    "# 5. Интерполяция и численное интегрирование. Формула ошибок\n",
    "\n",
    "Построить $11$ точек, взяв\n",
    "$$\n",
    "x_i = \\frac{i-1}{10}, \\quad y_i = {\\rm erf} x_i\\quad (i=1,\\dots,11),\n",
    "$$\n",
    "где\n",
    "$$\n",
    "{\\rm erf} x = \\frac{2}{\\sqrt{\\pi}} \\int_0^x e^{-t^2} dt\n",
    "$$\n",
    "– *функция ошибок*.\n",
    "\n",
    "* Составить систему линейных уравнений для нахождения\n",
    "коэффициентов интерполирующего многочлена $10$-ой степени. Найти\n",
    "число обусловленности этой системы. Решить составленную систему. С помощью построенного\n",
    "интерполянта протабулировать значение функции в промежуточных точках.\n",
    "* Сравнить коэффициенты построенного интерполирующего многочлена\n",
    "с коэффициентами многочлена, который можно получить с помощью функции\n",
    "`numpy.polyfit`.\n",
    "* Постройть кубический эрмитов интерполянт и кубический сплайн. Найти значения интерполянтов в тех же точках, что и в предыдущих\n",
    "пунктах и сравнить результаты."
   ]
  },
  {
   "cell_type": "code",
   "execution_count": 1,
   "metadata": {},
   "outputs": [],
   "source": [
    "import numpy as np\n",
    "import matplotlib.pyplot as plt\n",
    "%matplotlib inline\n",
    "from scipy import linalg\n",
    "from scipy import interpolate\n",
    "from scipy import special"
   ]
  },
  {
   "cell_type": "code",
   "execution_count": 2,
   "metadata": {},
   "outputs": [
    {
     "data": {
      "text/plain": [
       "[-0.1, 0.0, 0.1, 0.2, 0.3, 0.4, 0.5, 0.6, 0.7, 0.8, 0.9]"
      ]
     },
     "execution_count": 2,
     "metadata": {},
     "output_type": "execute_result"
    }
   ],
   "source": [
    "x=[0]*11\n",
    "for i in range(len(x)):\n",
    "    x[i]=((i-1)/10)\n",
    "x"
   ]
  },
  {
   "cell_type": "code",
   "execution_count": 3,
   "metadata": {},
   "outputs": [
    {
     "data": {
      "text/plain": [
       "array([-0.11246292,  0.        ,  0.11246292,  0.22270259,  0.32862676,\n",
       "        0.42839236,  0.52049988,  0.60385609,  0.67780119,  0.74210096,\n",
       "        0.79690821])"
      ]
     },
     "execution_count": 3,
     "metadata": {},
     "output_type": "execute_result"
    }
   ],
   "source": [
    "y=special.erf(x)\n",
    "y"
   ]
  },
  {
   "cell_type": "code",
   "execution_count": 4,
   "metadata": {},
   "outputs": [
    {
     "data": {
      "image/png": "[encoded data removed]",
      "text/plain": [
       "<Figure size 432x288 with 1 Axes>"
      ]
     },
     "metadata": {
      "needs_background": "light"
     },
     "output_type": "display_data"
    }
   ],
   "source": [
    "plt.plot(x, y, 'o')\n",
    "pass"
   ]
  },
  {
   "cell_type": "markdown",
   "metadata": {},
   "source": [
    "Система линейных уравнений для нахождения коэффициентов интерполирующего многочлена $10$-ой степени имеет следующий вид:\n",
    "$$\n",
    "\\left\\{\n",
    "\\begin{array}{l}\n",
    "a_0 x_0^{10} + a_1 x_0^9 + \\dots + a_9 x_0 + a_{10} = y_0, \\\\\n",
    "a_0 x_1^{10}+ a_1 x_1^9 + \\dots + a_9 x_1 + a_{10} = y_1, \\\\\n",
    "\\dots \\\\\n",
    "a_0 x_{10}^{10} + a_1 x_{10}^9 + \\dots + a_9 x_{10} + a_{10} = y_{10} \\\\\n",
    "\\end{array}\n",
    "\\right.\n",
    "$$\n",
    "Вид матрицы этой системы:\n",
    "$$\n",
    "W = \n",
    "\\left(\n",
    "\\begin{array}{ccccc}\n",
    "    x_0^{10} &     x_0^9 & \\dots &    x_0  & 1 \\\\\n",
    "    x_1^{10} &     x_1^9 & \\dots &    x_1  & 1 \\\\\n",
    "\\dots \\\\\n",
    "    x_{10}^{10} &     x_{10}^9 & \\dots &    x_{10}  & 1 \\\\\n",
    "\\end{array}\n",
    "\\right).\n",
    "$$\n",
    "Если ввести также векторы\n",
    "$$\n",
    "a = \n",
    "\\left(\n",
    "\\begin{array}{c}\n",
    "    a_0     \\\\\n",
    "    a_1     \\\\\n",
    "    \\vdots  \\\\\n",
    "    a_{10}     \\\\\n",
    "\\end{array}\n",
    "\\right),\n",
    "\\qquad\n",
    "y =\n",
    "\\left(\n",
    "\\begin{array}{c}\n",
    "    y_0     \\\\\n",
    "    y_1     \\\\\n",
    "   \\vdots   \\\\\n",
    "    y_{10}     \\\\\n",
    "\\end{array}\n",
    "\\right),\n",
    "$$\n",
    "то система принимает вид $Wa = y$.\n",
    "\n",
    "Получим матрицу Вандермонда с помощью функции `np.vander(x)`:"
   ]
  },
  {
   "cell_type": "code",
   "execution_count": 5,
   "metadata": {},
   "outputs": [
    {
     "data": {
      "text/plain": [
       "array([[ 1.00000000e-10, -1.00000000e-09,  1.00000000e-08,\n",
       "        -1.00000000e-07,  1.00000000e-06, -1.00000000e-05,\n",
       "         1.00000000e-04, -1.00000000e-03,  1.00000000e-02,\n",
       "        -1.00000000e-01,  1.00000000e+00],\n",
       "       [ 0.00000000e+00,  0.00000000e+00,  0.00000000e+00,\n",
       "         0.00000000e+00,  0.00000000e+00,  0.00000000e+00,\n",
       "         0.00000000e+00,  0.00000000e+00,  0.00000000e+00,\n",
       "         0.00000000e+00,  1.00000000e+00],\n",
       "       [ 1.00000000e-10,  1.00000000e-09,  1.00000000e-08,\n",
       "         1.00000000e-07,  1.00000000e-06,  1.00000000e-05,\n",
       "         1.00000000e-04,  1.00000000e-03,  1.00000000e-02,\n",
       "         1.00000000e-01,  1.00000000e+00],\n",
       "       [ 1.02400000e-07,  5.12000000e-07,  2.56000000e-06,\n",
       "         1.28000000e-05,  6.40000000e-05,  3.20000000e-04,\n",
       "         1.60000000e-03,  8.00000000e-03,  4.00000000e-02,\n",
       "         2.00000000e-01,  1.00000000e+00],\n",
       "       [ 5.90490000e-06,  1.96830000e-05,  6.56100000e-05,\n",
       "         2.18700000e-04,  7.29000000e-04,  2.43000000e-03,\n",
       "         8.10000000e-03,  2.70000000e-02,  9.00000000e-02,\n",
       "         3.00000000e-01,  1.00000000e+00],\n",
       "       [ 1.04857600e-04,  2.62144000e-04,  6.55360000e-04,\n",
       "         1.63840000e-03,  4.09600000e-03,  1.02400000e-02,\n",
       "         2.56000000e-02,  6.40000000e-02,  1.60000000e-01,\n",
       "         4.00000000e-01,  1.00000000e+00],\n",
       "       [ 9.76562500e-04,  1.95312500e-03,  3.90625000e-03,\n",
       "         7.81250000e-03,  1.56250000e-02,  3.12500000e-02,\n",
       "         6.25000000e-02,  1.25000000e-01,  2.50000000e-01,\n",
       "         5.00000000e-01,  1.00000000e+00],\n",
       "       [ 6.04661760e-03,  1.00776960e-02,  1.67961600e-02,\n",
       "         2.79936000e-02,  4.66560000e-02,  7.77600000e-02,\n",
       "         1.29600000e-01,  2.16000000e-01,  3.60000000e-01,\n",
       "         6.00000000e-01,  1.00000000e+00],\n",
       "       [ 2.82475249e-02,  4.03536070e-02,  5.76480100e-02,\n",
       "         8.23543000e-02,  1.17649000e-01,  1.68070000e-01,\n",
       "         2.40100000e-01,  3.43000000e-01,  4.90000000e-01,\n",
       "         7.00000000e-01,  1.00000000e+00],\n",
       "       [ 1.07374182e-01,  1.34217728e-01,  1.67772160e-01,\n",
       "         2.09715200e-01,  2.62144000e-01,  3.27680000e-01,\n",
       "         4.09600000e-01,  5.12000000e-01,  6.40000000e-01,\n",
       "         8.00000000e-01,  1.00000000e+00],\n",
       "       [ 3.48678440e-01,  3.87420489e-01,  4.30467210e-01,\n",
       "         4.78296900e-01,  5.31441000e-01,  5.90490000e-01,\n",
       "         6.56100000e-01,  7.29000000e-01,  8.10000000e-01,\n",
       "         9.00000000e-01,  1.00000000e+00]])"
      ]
     },
     "execution_count": 5,
     "metadata": {},
     "output_type": "execute_result"
    }
   ],
   "source": [
    "W = np.vander(x)\n",
    "W"
   ]
  },
  {
   "cell_type": "code",
   "execution_count": 6,
   "metadata": {},
   "outputs": [
    {
     "data": {
      "text/plain": [
       "48418951.18885507"
      ]
     },
     "execution_count": 6,
     "metadata": {},
     "output_type": "execute_result"
    }
   ],
   "source": [
    "np.linalg.cond(W) # Число обусловленности системы"
   ]
  },
  {
   "cell_type": "markdown",
   "metadata": {},
   "source": [
    "Данная матрица - матрица с большим числом обусловленности, значит она является плохо обусловленной матрицей. При численном решении систем с плохо обусловленными матрицами возможно сильное накопление погрешностей."
   ]
  },
  {
   "cell_type": "markdown",
   "metadata": {},
   "source": [
    "Построим график зависимости чисел обусловленности от степени интерполяционного многочлена:"
   ]
  },
  {
   "cell_type": "code",
   "execution_count": 7,
   "metadata": {},
   "outputs": [
    {
     "data": {
      "text/plain": [
       "[<matplotlib.lines.Line2D at 0x22432fa1b88>]"
      ]
     },
     "execution_count": 7,
     "metadata": {},
     "output_type": "execute_result"
    },
    {
     "data": {
      "image/png": "[encoded data removed]",
      "text/plain": [
       "<Figure size 432x288 with 1 Axes>"
      ]
     },
     "metadata": {
      "needs_background": "light"
     },
     "output_type": "display_data"
    }
   ],
   "source": [
    "n = np.arange(1, 11, 1)\n",
    "cnd=[0]*10\n",
    "for i in range(len(cnd)):\n",
    "    cnd[i]=np.linalg.cond(W[9-i:,9-i:])\n",
    "plt.plot(n, cnd, color = 'tab:blue')\n",
    "plt.plot(n, cnd, 'o', color = 'tab:orange')"
   ]
  },
  {
   "cell_type": "markdown",
   "metadata": {},
   "source": [
    "По графику видно, что чем больше степень интерполяционного многочлена, тем больше число обусловленности."
   ]
  },
  {
   "cell_type": "markdown",
   "metadata": {},
   "source": [
    "Найдем коэффициенты интерполяционного многочлена, решая систему линейных уравнений:"
   ]
  },
  {
   "cell_type": "code",
   "execution_count": 8,
   "metadata": {},
   "outputs": [
    {
     "data": {
      "text/plain": [
       "array([-1.81541515e-03,  6.99182423e-03, -9.06336540e-04, -2.66590511e-02,\n",
       "        1.42861460e-05,  1.12819182e-01,  3.51775666e-06, -3.76126475e-01,\n",
       "       -3.56816904e-08,  1.12837917e+00,  0.00000000e+00])"
      ]
     },
     "execution_count": 8,
     "metadata": {},
     "output_type": "execute_result"
    }
   ],
   "source": [
    "# коэффициенты интерполяционного многочлена с помощью матрицы \n",
    "linalg.solve(W,y)"
   ]
  },
  {
   "cell_type": "markdown",
   "metadata": {},
   "source": [
    "Полученное решение нельзя считать полностью достоверным, так как матрица этой системы плохо обусловленная."
   ]
  },
  {
   "cell_type": "markdown",
   "metadata": {},
   "source": [
    "Выполним проверку, умножим матрицу коэфициентов на полученный столбец решений. Данное произведение должно оказаться равно столбцу y: "
   ]
  },
  {
   "cell_type": "code",
   "execution_count": 9,
   "metadata": {},
   "outputs": [
    {
     "name": "stdout",
     "output_type": "stream",
     "text": [
      "[-0.11246292  0.          0.11246292  0.22270259  0.32862676  0.42839236\n",
      "  0.52049988  0.60385609  0.67780119  0.74210096  0.79690821]\n",
      "[0.11889633 0.14768757 0.18306701 0.22629366 0.27870973 0.34164658\n",
      " 0.41628369 0.50349569 0.60371677 0.71692024 0.84270067]\n"
     ]
    }
   ],
   "source": [
    "a = linalg.solve(W,y)\n",
    "y1 = np.dot(a, W)\n",
    "print(y)\n",
    "print(y1)"
   ]
  },
  {
   "cell_type": "markdown",
   "metadata": {},
   "source": [
    "По результату проверки видно, что полученное произведение отличается от столбца y."
   ]
  },
  {
   "cell_type": "code",
   "execution_count": 10,
   "metadata": {},
   "outputs": [
    {
     "data": {
      "text/plain": [
       "array([-1.81541510e-03,  6.99182405e-03, -9.06336257e-04, -2.66590513e-02,\n",
       "        1.42862595e-05,  1.12819182e-01,  3.51776006e-06, -3.76126475e-01,\n",
       "       -3.56817325e-08,  1.12837917e+00, -1.42266556e-16])"
      ]
     },
     "execution_count": 10,
     "metadata": {},
     "output_type": "execute_result"
    }
   ],
   "source": [
    "# коэффициенты интерполяционного многочлена с помощью функции f = np.polyfit(x, y, n) :\n",
    "f = np.polyfit(x, y, 10)\n",
    "f"
   ]
  },
  {
   "cell_type": "markdown",
   "metadata": {},
   "source": [
    "Значения первых 10 коэффициентов практически совпадают, разница заключается в последних коэффициентах."
   ]
  },
  {
   "cell_type": "code",
   "execution_count": 11,
   "metadata": {},
   "outputs": [
    {
     "data": {
      "text/plain": [
       "array([0.1403162 , 0.30265634, 0.37938205, 0.45218716, 0.55240623])"
      ]
     },
     "execution_count": 11,
     "metadata": {},
     "output_type": "execute_result"
    }
   ],
   "source": [
    "# значение интерполяционного многочлена в промежуточных точках\n",
    "np.polyval(f, [0.125, 0.275, 0.35, 0.425, 0.537])"
   ]
  },
  {
   "cell_type": "code",
   "execution_count": 12,
   "metadata": {},
   "outputs": [
    {
     "data": {
      "text/plain": [
       "-3.3306690738754696e-16"
      ]
     },
     "execution_count": 12,
     "metadata": {},
     "output_type": "execute_result"
    }
   ],
   "source": [
    "# абсолютная ошибка\n",
    "np.polyval(f, 0.5) - special.erf(0.5)"
   ]
  },
  {
   "cell_type": "code",
   "execution_count": 13,
   "metadata": {},
   "outputs": [
    {
     "data": {
      "text/plain": [
       "1.2168347440777438e-09"
      ]
     },
     "execution_count": 13,
     "metadata": {},
     "output_type": "execute_result"
    }
   ],
   "source": [
    "x_array = np.arange(-0.1, 0.9, 0.01)\n",
    "np.linalg.norm(np.polyval(f, x_array) - special.erf(x_array), np.Inf)"
   ]
  },
  {
   "cell_type": "code",
   "execution_count": 14,
   "metadata": {},
   "outputs": [
    {
     "data": {
      "text/plain": [
       "2.271263513326913"
      ]
     },
     "execution_count": 14,
     "metadata": {},
     "output_type": "execute_result"
    }
   ],
   "source": [
    "# относительная ошибка\n",
    "x_array = np.arange(-0.1, 0.9, 0.01)\n",
    "np.linalg.norm((np.polyval(f, x_array) - special.erf(x_array))/special.erf(x_array), np.Inf)"
   ]
  },
  {
   "cell_type": "code",
   "execution_count": 15,
   "metadata": {},
   "outputs": [
    {
     "name": "stdout",
     "output_type": "stream",
     "text": [
      "[0.14031585 0.30265592 0.37938101 0.45218653 0.55240508]\n"
     ]
    },
    {
     "data": {
      "image/png": "[encoded data removed]",
      "text/plain": [
       "<Figure size 432x288 with 1 Axes>"
      ]
     },
     "metadata": {
      "needs_background": "light"
     },
     "output_type": "display_data"
    }
   ],
   "source": [
    "#Кубический сплайн\n",
    "spline = interpolate.interp1d(x, y, kind = 'cubic')\n",
    "x_ar = [0.125, 0.275, 0.35, 0.425, 0.537]\n",
    "print(spline(x_ar)) \n",
    "xx = np.linspace(np.min(x), np.max(x), 500)\n",
    "plt.plot(xx, spline(xx), color = 'tab:blue')\n",
    "plt.plot(x, y, 'o', color = 'tab:orange')\n",
    "pass"
   ]
  },
  {
   "cell_type": "code",
   "execution_count": 16,
   "metadata": {},
   "outputs": [
    {
     "name": "stdout",
     "output_type": "stream",
     "text": [
      "[0.14028076 0.30269083 0.37938068 0.45215154 0.55238233]\n"
     ]
    },
    {
     "data": {
      "image/png": "[encoded data removed]",
      "text/plain": [
       "<Figure size 432x288 with 1 Axes>"
      ]
     },
     "metadata": {
      "needs_background": "light"
     },
     "output_type": "display_data"
    }
   ],
   "source": [
    "# Кубический эрмитов интерполянт\n",
    "pchip = interpolate.pchip(x, y)\n",
    "print(pchip(x_ar))\n",
    "plt.plot(xx, pchip(xx),   color = 'tab:blue')\n",
    "plt.plot(x, y, 'o', color = 'tab:orange')\n",
    "pass"
   ]
  },
  {
   "cell_type": "markdown",
   "metadata": {},
   "source": [
    "Значения интерполянтов в промежуточных точках практически совпадают."
   ]
  }
 ],
 "metadata": {
  "kernelspec": {
   "display_name": "Python 3",
   "language": "python",
   "name": "python3"
  },
  "language_info": {
   "codemirror_mode": {
    "name": "ipython",
    "version": 3
   },
   "file_extension": ".py",
   "mimetype": "text/x-python",
   "name": "python",
   "nbconvert_exporter": "python",
   "pygments_lexer": "ipython3",
   "version": "3.7.6"
  }
 },
 "nbformat": 4,
 "nbformat_minor": 4
}
